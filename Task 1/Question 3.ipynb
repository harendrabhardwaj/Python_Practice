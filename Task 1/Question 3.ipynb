{
 "cells": [
  {
   "cell_type": "code",
   "execution_count": 4,
   "metadata": {},
   "outputs": [
    {
     "name": "stdout",
     "output_type": "stream",
     "text": [
      "Harendra\n",
      "Kumar\n"
     ]
    }
   ],
   "source": [
    "first_name = input()\n",
    "last_name = input()"
   ]
  },
  {
   "cell_type": "code",
   "execution_count": 5,
   "metadata": {},
   "outputs": [
    {
     "name": "stdout",
     "output_type": "stream",
     "text": [
      "ramuK ardneraH\n"
     ]
    }
   ],
   "source": [
    "#Using slicing of String\n",
    "rev_first = first_name[::-1]\n",
    "rev_last  = last_name[::-1]\n",
    "print(rev_last+\" \"+rev_first)\n"
   ]
  },
  {
   "cell_type": "code",
   "execution_count": 20,
   "metadata": {},
   "outputs": [
    {
     "name": "stdout",
     "output_type": "stream",
     "text": [
      "ramuK ardneraH"
     ]
    }
   ],
   "source": [
    "#Logic 2 using for loop by reversing the index\n",
    "first_name = 'Harendra '\n",
    "last_name = 'Kumar'\n",
    "i=len(first_name)\n",
    "j=len(last_name)\n",
    "for j in range(j-1,-1,-1):\n",
    "    print(last_name[j],end=\"\")\n",
    "for i in range(i-1,-1,-1):\n",
    "    print(first_name[i],end=\"\")"
   ]
  },
  {
   "cell_type": "code",
   "execution_count": 19,
   "metadata": {},
   "outputs": [
    {
     "name": "stdout",
     "output_type": "stream",
     "text": [
      "ramuK \n",
      "ardneraH"
     ]
    }
   ],
   "source": [
    "#logic 3: this logic doesn't gives output in single line but it reverse the string\n",
    "a=0\n",
    "b=0\n",
    "i=len(first_name)\n",
    "j=len(last_name)\n",
    "while(j>b):\n",
    "    j=j-1\n",
    "    print(last_name[j])\n",
    "print(\" \")\n",
    "while (i>a):\n",
    "    i=i-1\n",
    "    print(first_name[i])"
   ]
  },
  {
   "cell_type": "code",
   "execution_count": null,
   "metadata": {},
   "outputs": [],
   "source": [
    "\n"
   ]
  }
 ],
 "metadata": {
  "kernelspec": {
   "display_name": "Python 3",
   "language": "python",
   "name": "python3"
  },
  "language_info": {
   "codemirror_mode": {
    "name": "ipython",
    "version": 3
   },
   "file_extension": ".py",
   "mimetype": "text/x-python",
   "name": "python",
   "nbconvert_exporter": "python",
   "pygments_lexer": "ipython3",
   "version": "3.7.6"
  }
 },
 "nbformat": 4,
 "nbformat_minor": 4
}
